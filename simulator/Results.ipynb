{
 "cells": [
  {
   "cell_type": "markdown",
   "metadata": {},
   "source": [
    "**Matplotlib preparation**"
   ]
  },
  {
   "cell_type": "code",
   "execution_count": null,
   "metadata": {},
   "outputs": [],
   "source": [
    "import matplotlib\n",
    "%matplotlib notebook\n",
    "\n",
    "import matplotlib.pyplot as plt\n",
    "import matplotlib.dates as mdates\n",
    "\n",
    "matplotlib.rcParams['figure.figsize'] = (9.8, 5)\n",
    "matplotlib.rcParams['figure.constrained_layout.use'] = True\n",
    "matplotlib.rcParams['font.size'] = 13\n",
    "\n",
    "# without this matplotlib emits a warning \n",
    "# even when not plotting pandas data at all, because pandas messes with it\n",
    "from pandas.plotting import register_matplotlib_converters\n",
    "register_matplotlib_converters()"
   ]
  },
  {
   "cell_type": "markdown",
   "metadata": {},
   "source": [
    "**Imports necessary for loading the data**"
   ]
  },
  {
   "cell_type": "code",
   "execution_count": null,
   "metadata": {},
   "outputs": [],
   "source": [
    "import datetime\n",
    "import pandas"
   ]
  },
  {
   "cell_type": "markdown",
   "metadata": {},
   "source": [
    "**Folder with the simulation results**"
   ]
  },
  {
   "cell_type": "code",
   "execution_count": null,
   "metadata": {},
   "outputs": [],
   "source": [
    "resultsFolder = \"out/\""
   ]
  },
  {
   "cell_type": "markdown",
   "metadata": {},
   "source": [
    "**Loading the data**"
   ]
  },
  {
   "cell_type": "code",
   "execution_count": null,
   "metadata": {},
   "outputs": [],
   "source": [
    "desc = {}\n",
    "with open(f\"{resultsFolder}/desc.txt\", \"r\") as descfile:\n",
    "\tfor line in descfile:\n",
    "\t\tkey, val = line.strip(\"\\n\").split(\"=\")\n",
    "\t\tdesc[key] = val\n",
    "\n",
    "startingDT = datetime.datetime.strptime(desc[\"startingDatetime\"], \"%Y-%m-%d %H:%M:%S\")\n",
    "simulationLength = int(desc[\"simulationLength\"])\n",
    "houseCount = int(desc[\"houseCount\"])\n",
    "\n",
    "\n",
    "data = pandas.read_csv(f\"{resultsFolder}/data.csv\", parse_dates=[0])\n",
    "\n",
    "datetimes = data[\"Datetime\"].values\n",
    "predictedDemand = data[\"PredictedBaseDemand\"].values\n",
    "actualDemand = data[\"ActualBaseDemand\"].values\n",
    "targetDemand = data[\"TargetDemand\"].values\n",
    "smartDemand = data[\"SmartDemand\"].values\n",
    "uncontrolledDemand = data[\"UncontrolledDemand\"].values\n",
    "spreadOutDemand = data[\"SpreadOutDemand\"].values\n",
    "priceRatio = data[\"PriceRatio\"].values"
   ]
  },
  {
   "cell_type": "markdown",
   "metadata": {},
   "source": [
    "**Plots of the simulation results**"
   ]
  },
  {
   "cell_type": "code",
   "execution_count": null,
   "metadata": {},
   "outputs": [],
   "source": [
    "plt.figure()\n",
    "plt.gca().xaxis.set_major_formatter(mdates.DateFormatter(\"%d. %m.\\n%H:%M\"))\n",
    "plt.gca().xaxis.set_minor_formatter(mdates.DateFormatter(\"%H:%M\"))\n",
    "plt.gca().xaxis.set_major_locator(mdates.HourLocator(byhour=[0]))\n",
    "plt.title(\"Base demand prediction vs. actual base demand\")\n",
    "plt.plot(datetimes, predictedDemand, label=\"Predicted base demand\")\n",
    "plt.plot(datetimes, actualDemand, label=\"Actual base demand\")\n",
    "plt.plot(datetimes[0], [0])\n",
    "plt.grid()\n",
    "plt.legend(loc=\"upper center\", ncol=2)\n",
    "plt.xlabel(\"Date and time\")\n",
    "plt.ylabel(\"Demand [kW]\")\n",
    "plt.show()"
   ]
  },
  {
   "cell_type": "code",
   "execution_count": null,
   "metadata": {},
   "outputs": [],
   "source": [
    "plt.figure()\n",
    "plt.gca().xaxis.set_major_formatter(mdates.DateFormatter(\"%d. %m.\\n%H:%M\"))\n",
    "plt.gca().xaxis.set_minor_formatter(mdates.DateFormatter(\"%H:%M\"))\n",
    "plt.gca().xaxis.set_major_locator(mdates.HourLocator(byhour=[0]))\n",
    "plt.title(\"Ideal target demand the smart homes should try to reach\")\n",
    "plt.plot(datetimes, predictedDemand, label=\"Predicted base demand\")\n",
    "plt.plot(datetimes, predictedDemand + targetDemand, label=\"Predicted base demand + target demand\")\n",
    "plt.plot(datetimes[0], [0])\n",
    "plt.grid()\n",
    "plt.legend(loc=\"upper center\", ncol=2)\n",
    "plt.xlabel(\"Date and time\")\n",
    "plt.ylabel(\"Demand [kW]\")\n",
    "plt.show()"
   ]
  },
  {
   "cell_type": "code",
   "execution_count": null,
   "metadata": {
    "scrolled": false
   },
   "outputs": [],
   "source": [
    "plt.figure()\n",
    "plt.gca().xaxis.set_major_formatter(mdates.DateFormatter(\"%d. %m.\\n%H:%M\"))\n",
    "plt.gca().xaxis.set_minor_formatter(mdates.DateFormatter(\"%H:%M\"))\n",
    "plt.gca().xaxis.set_major_locator(mdates.HourLocator(byhour=[0]))\n",
    "plt.title(\"Actual target demand the smart homes will try to reach\")\n",
    "plt.plot(datetimes, actualDemand, label=\"Actual base demand\")\n",
    "plt.plot(datetimes, actualDemand + targetDemand, label=\"Actual base demand + target demand\")\n",
    "plt.plot(datetimes[0], [0])\n",
    "plt.grid()\n",
    "plt.legend(loc=\"upper center\", ncol=2)\n",
    "plt.xlabel(\"Date and time\")\n",
    "plt.ylabel(\"Demand [kW]\")\n",
    "plt.show()"
   ]
  },
  {
   "cell_type": "code",
   "execution_count": null,
   "metadata": {},
   "outputs": [],
   "source": [
    "plt.figure()\n",
    "plt.gca().xaxis.set_major_formatter(mdates.DateFormatter(\"%d. %m.\\n%H:%M\"))\n",
    "plt.gca().xaxis.set_minor_formatter(mdates.DateFormatter(\"%H:%M\"))\n",
    "plt.gca().xaxis.set_major_locator(mdates.HourLocator(byhour=[0]))\n",
    "plt.title(\"Target demand of the smart homes and the cheaper prices ratio generated from it\")\n",
    "plt.plot(datetimes, targetDemand, label=\"Target demand\")\n",
    "plt.plot(datetimes, priceRatio * houseCount, label=\"Price ratio\")\n",
    "plt.plot(datetimes[0], [0])\n",
    "plt.grid()\n",
    "plt.legend(loc=\"upper center\", ncol=2)\n",
    "plt.xlabel(\"Date and time\")\n",
    "plt.ylabel(\"Demand [kW]\")\n",
    "plt.show()"
   ]
  },
  {
   "cell_type": "code",
   "execution_count": null,
   "metadata": {},
   "outputs": [],
   "source": [
    "plt.figure()\n",
    "plt.gca().xaxis.set_major_formatter(mdates.DateFormatter(\"%d. %m.\\n%H:%M\"))\n",
    "plt.gca().xaxis.set_minor_formatter(mdates.DateFormatter(\"%H:%M\"))\n",
    "plt.gca().xaxis.set_major_locator(mdates.HourLocator(byhour=[0]))\n",
    "plt.title(\"The simulated demand of the households according to different optimization algorithms\")\n",
    "plt.plot(datetimes, actualDemand, label=\"Base demand\", zorder=0)\n",
    "plt.plot(datetimes, actualDemand + targetDemand, label=\"Target demand\", zorder=4)\n",
    "plt.plot(datetimes, actualDemand + uncontrolledDemand, label=\"Uncontrolled demand\", zorder=1)\n",
    "plt.plot(datetimes, actualDemand + spreadOutDemand, label=\"Spread out demand\", zorder=2)\n",
    "plt.plot(datetimes, actualDemand + smartDemand, label=\"Smart demand\", zorder=3)\n",
    "plt.plot(datetimes[0], [0])\n",
    "plt.grid()\n",
    "plt.legend(loc=\"lower center\", ncol=3)\n",
    "plt.xlabel(\"Date and time\")\n",
    "plt.ylabel(\"Demand [kW]\")\n",
    "plt.show()"
   ]
  },
  {
   "cell_type": "code",
   "execution_count": null,
   "metadata": {},
   "outputs": [],
   "source": []
  }
 ],
 "metadata": {
  "kernelspec": {
   "display_name": "Python 3",
   "language": "python",
   "name": "python3"
  },
  "language_info": {
   "codemirror_mode": {
    "name": "ipython",
    "version": 3
   },
   "file_extension": ".py",
   "mimetype": "text/x-python",
   "name": "python",
   "nbconvert_exporter": "python",
   "pygments_lexer": "ipython3",
   "version": "3.7.3"
  }
 },
 "nbformat": 4,
 "nbformat_minor": 2
}
